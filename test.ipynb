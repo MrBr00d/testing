{
 "cells": [
  {
   "cell_type": "code",
   "execution_count": 3,
   "metadata": {},
   "outputs": [],
   "source": [
    "import requests\n",
    "import pandas as pd\n",
    "from time import sleep\n",
    "\n",
    "def get_address(postcode: str, huisnummer: int):\n",
    "    url = f\"https://api.bag.kadaster.nl/lvbag/individuelebevragingen/v2/adressen?postcode={postcode}&huisnummer={huisnummer}&exacteMatch=false&page=1&pageSize=20&inclusiefEindStatus=true\"\n",
    "    headers = {\n",
    "    'X-Api-Key': 'l7380e3cfc716f4788beea66f144e155d9'\n",
    "    }\n",
    "\n",
    "    response = requests.request(\"GET\", url, headers=headers).json()\n",
    "    sleep(1/50)\n",
    "\n",
    "    straat = response[\"_embedded\"][\"adressen\"][0][\"korteNaam\"]\n",
    "    huis = response[\"_embedded\"][\"adressen\"][0][\"huisnummer\"]\n",
    "    plaats = response[\"_embedded\"][\"adressen\"][0][\"woonplaatsNaam\"]\n",
    "\n",
    "    return straat,huis,plaats\n",
    "\n",
    "\n",
    "def get_address_toevoeging(postcode: str, huisnummer: int, toevoeging: str):\n",
    "    if toevoeging:\n",
    "        url = f\"https://api.bag.kadaster.nl/lvbag/individuelebevragingen/v2/adressen?postcode={postcode}&huisnummer={huisnummer}&huisletter={toevoeging}&exacteMatch=false&page=1&pageSize=20&inclusiefEindStatus=true\"\n",
    "    \n",
    "    headers = {\n",
    "    'X-Api-Key': 'l7380e3cfc716f4788beea66f144e155d9'\n",
    "    }\n",
    "\n",
    "    response = requests.request(\"GET\", url, headers=headers).json()\n",
    "    sleep(1/50)\n",
    "\n",
    "    straat = response[\"_embedded\"][\"adressen\"][0][\"korteNaam\"]\n",
    "    huis = response[\"_embedded\"][\"adressen\"][0][\"huisnummer\"]\n",
    "    huisletter = response[\"_embedded\"][\"adressen\"][0][\"huisletter\"]\n",
    "    plaats = response[\"_embedded\"][\"adressen\"][0][\"woonplaatsNaam\"]\n",
    "\n",
    "    return straat,huis,huisletter,plaats\n",
    "\n",
    "\n",
    "def convert_postcodes(dataframe: pd.DataFrame):\n",
    "    \"\"\"Assumes a dataframe of 3 columns. postcode -> huisnummer -> huisletter\"\"\"\n",
    "    straten = []\n",
    "    huisnummers = []\n",
    "    toevoegingen = []\n",
    "    plaatsen = []\n",
    "\n",
    "    for row in range(len(dataframe)):\n",
    "        letter = dataframe.iloc[row,2]\n",
    "        if letter:\n",
    "            straat,huis,huisletter,plaats = get_address_toevoeging(dataframe.iloc[row,0], dataframe.iloc[row,1], letter)\n",
    "\n",
    "            straten.append(straat)\n",
    "            huisnummers.append(huis)\n",
    "            toevoegingen.append(huisletter)\n",
    "            plaatsen.append(plaats)\n",
    "\n",
    "\n",
    "        else:\n",
    "            straat,huis,plaats = get_address(dataframe.iloc[row,0], dataframe.iloc[row,1])\n",
    "\n",
    "            straten.append(straat)\n",
    "            huisnummers.append(huis)\n",
    "            toevoegingen.append(None)\n",
    "            plaatsen.append(plaats)\n",
    "\n",
    "    data = {\"straat\": straten,\n",
    "            \"huisnummer\": huisnummers,\n",
    "            \"huisletter\": toevoegingen,\n",
    "            \"plaats\": plaatsen}\n",
    "    return pd.DataFrame(data)"
   ]
  },
  {
   "cell_type": "code",
   "execution_count": 4,
   "metadata": {},
   "outputs": [
    {
     "name": "stdout",
     "output_type": "stream",
     "text": [
      "  postcode  huisnummer huisletetr\n",
      "0   3111PB         116       None\n",
      "1   3124TK          13       None\n",
      "2   2512JL         177          b\n"
     ]
    }
   ],
   "source": [
    "sample_data = {\"postcode\": [\"3111PB\", \"3124TK\", \"2512JL\"],\n",
    "               \"huisnummer\": [116,13,177],\n",
    "               \"huisletetr\": [None, None, \"b\"]}\n",
    "\n",
    "\n",
    "df = pd.DataFrame(sample_data)\n",
    "print(df)"
   ]
  },
  {
   "cell_type": "code",
   "execution_count": 1,
   "metadata": {},
   "outputs": [
    {
     "ename": "NameError",
     "evalue": "name 'convert_postcodes' is not defined",
     "output_type": "error",
     "traceback": [
      "\u001b[1;31m---------------------------------------------------------------------------\u001b[0m",
      "\u001b[1;31mNameError\u001b[0m                                 Traceback (most recent call last)",
      "\u001b[1;32md:\\Projects\\geolocation\\test.ipynb Cell 3\u001b[0m line \u001b[0;36m1\n\u001b[1;32m----> <a href='vscode-notebook-cell:/d%3A/Projects/geolocation/test.ipynb#W2sZmlsZQ%3D%3D?line=0'>1</a>\u001b[0m df2 \u001b[39m=\u001b[39m convert_postcodes(df)\n\u001b[0;32m      <a href='vscode-notebook-cell:/d%3A/Projects/geolocation/test.ipynb#W2sZmlsZQ%3D%3D?line=1'>2</a>\u001b[0m \u001b[39mprint\u001b[39m(df2)\n",
      "\u001b[1;31mNameError\u001b[0m: name 'convert_postcodes' is not defined"
     ]
    }
   ],
   "source": [
    "df2 = convert_postcodes(df)\n",
    "print(df2)"
   ]
  },
  {
   "cell_type": "code",
   "execution_count": 9,
   "metadata": {},
   "outputs": [
    {
     "data": {
      "text/plain": [
       "3"
      ]
     },
     "execution_count": 9,
     "metadata": {},
     "output_type": "execute_result"
    }
   ],
   "source": [
    "df_t = pd.read_csv(\"test_map.csv\", sep=\";\")\n",
    "len(df_t.columns)"
   ]
  },
  {
   "cell_type": "code",
   "execution_count": 6,
   "metadata": {},
   "outputs": [
    {
     "data": {
      "text/html": [
       "<div>\n",
       "<style scoped>\n",
       "    .dataframe tbody tr th:only-of-type {\n",
       "        vertical-align: middle;\n",
       "    }\n",
       "\n",
       "    .dataframe tbody tr th {\n",
       "        vertical-align: top;\n",
       "    }\n",
       "\n",
       "    .dataframe thead th {\n",
       "        text-align: right;\n",
       "    }\n",
       "</style>\n",
       "<table border=\"1\" class=\"dataframe\">\n",
       "  <thead>\n",
       "    <tr style=\"text-align: right;\">\n",
       "      <th></th>\n",
       "      <th>postcode;huisnummer;letter</th>\n",
       "    </tr>\n",
       "  </thead>\n",
       "  <tbody>\n",
       "    <tr>\n",
       "      <th>0</th>\n",
       "      <td>2512 JL;177;B</td>\n",
       "    </tr>\n",
       "    <tr>\n",
       "      <th>1</th>\n",
       "      <td>1223 JA;186;</td>\n",
       "    </tr>\n",
       "    <tr>\n",
       "      <th>2</th>\n",
       "      <td>5663tg;36;</td>\n",
       "    </tr>\n",
       "    <tr>\n",
       "      <th>3</th>\n",
       "      <td>8085 BT;109;</td>\n",
       "    </tr>\n",
       "    <tr>\n",
       "      <th>4</th>\n",
       "      <td>5768rw;68;</td>\n",
       "    </tr>\n",
       "    <tr>\n",
       "      <th>5</th>\n",
       "      <td>2042 dx;13;</td>\n",
       "    </tr>\n",
       "    <tr>\n",
       "      <th>6</th>\n",
       "      <td>2512jl;173;u</td>\n",
       "    </tr>\n",
       "  </tbody>\n",
       "</table>\n",
       "</div>"
      ],
      "text/plain": [
       "  postcode;huisnummer;letter\n",
       "0              2512 JL;177;B\n",
       "1               1223 JA;186;\n",
       "2                 5663tg;36;\n",
       "3               8085 BT;109;\n",
       "4                 5768rw;68;\n",
       "5                2042 dx;13;\n",
       "6               2512jl;173;u"
      ]
     },
     "execution_count": 6,
     "metadata": {},
     "output_type": "execute_result"
    }
   ],
   "source": [
    "df_t"
   ]
  },
  {
   "cell_type": "code",
   "execution_count": 34,
   "metadata": {},
   "outputs": [],
   "source": []
  },
  {
   "cell_type": "code",
   "execution_count": 35,
   "metadata": {},
   "outputs": [
    {
     "name": "stdout",
     "output_type": "stream",
     "text": [
      "               straat  huisnummer           stad\n",
      "0         Groenweegje         116       Schiedam\n",
      "1  's-Gravenzandelaan         177  's-Gravenhage\n",
      "2  's-Gravenzandelaan         177  's-Gravenhage\n"
     ]
    }
   ],
   "source": []
  },
  {
   "cell_type": "code",
   "execution_count": 39,
   "metadata": {},
   "outputs": [
    {
     "name": "stdout",
     "output_type": "stream",
     "text": [
      "               straat  huisnummer           stad huisletter\n",
      "0         Groenweegje         116       Schiedam       None\n",
      "1  's-Gravenzandelaan         177  's-Gravenhage          B\n",
      "2  's-Gravenzandelaan         177  's-Gravenhage       None\n"
     ]
    }
   ],
   "source": []
  }
 ],
 "metadata": {
  "kernelspec": {
   "display_name": "base",
   "language": "python",
   "name": "python3"
  },
  "language_info": {
   "codemirror_mode": {
    "name": "ipython",
    "version": 3
   },
   "file_extension": ".py",
   "mimetype": "text/x-python",
   "name": "python",
   "nbconvert_exporter": "python",
   "pygments_lexer": "ipython3",
   "version": "3.11.5"
  }
 },
 "nbformat": 4,
 "nbformat_minor": 2
}
